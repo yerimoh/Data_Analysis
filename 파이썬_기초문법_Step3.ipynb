{
  "nbformat": 4,
  "nbformat_minor": 0,
  "metadata": {
    "colab": {
      "name": "파이썬_Step3.ipynb",
      "provenance": [],
      "collapsed_sections": [],
      "toc_visible": true
    },
    "kernelspec": {
      "name": "python3",
      "display_name": "Python 3"
    }
  },
  "cells": [
    {
      "cell_type": "markdown",
      "metadata": {
        "id": "dMzgRalldrk6"
      },
      "source": [
        "\n",
        "# 📌 Step 3. 파이썬 함수\n",
        "# 파이썬에겐 이렇게 말해야 해요"
      ]
    },
    {
      "cell_type": "markdown",
      "metadata": {
        "id": "fUjfq1ReJuwI"
      },
      "source": [
        "##1. 함수(Function)"
      ]
    },
    {
      "cell_type": "markdown",
      "metadata": {
        "id": "yFPEHQETb2tu"
      },
      "source": [
        "위의 함수는 1과 2가 주어지면 1+2를 더함 3이 나오고, 2와 4가 주어지면 2+4를 한 6이 나옵니다.\n",
        "\n",
        "Input(입력)들이 변함에 따라 Output(결과) 또한 달라지는데,\n",
        "똑같은 기능을 여러 번 해야 합니다.\n",
        "\n",
        "Input이 2개 정도면 간단하겠지만... 100번이면, 100번 코딩을 해야하겠죠?\n",
        "\n",
        "특징 기능을 “**함수**”로 정의하면, 입력만 바꿔가면서 \n",
        "결과를 살펴보면 됩니다.\n",
        "\n",
        "**즉, \"함수\"는 불필요한 코딩을 줄여주고 Input(입력)을 받아 Output(결과)를 주는 작업을 하는 마법의 도구입니다.🧚‍♀️**"
      ]
    },
    {
      "cell_type": "code",
      "metadata": {
        "id": "hazZXduWc10X",
        "colab": {
          "base_uri": "https://localhost:8080/"
        },
        "outputId": "b88f3fe4-43bc-4325-923d-0f6e88a568da"
      },
      "source": [
        "def add(number): #number라는 함수를 정의(add라는 함수는 number라는 변수가 들어가면)\n",
        "  number+=2     #함수의 내용 정의 (number라는 변수에 2를 더하고)\n",
        "  print(number) #함수 내용 정의2 (업데이트된 number라는 값을 프린트 해라)\n",
        "\n",
        "add(number=3)    #number라는 값에 3을 넣어서 add함수의 내용을 실행해라!"
      ],
      "execution_count": null,
      "outputs": [
        {
          "output_type": "stream",
          "text": [
            "5\n",
            "비가 내리고, \n",
            "음악이 흐르면, \n",
            "난 당신을 생각해요, \n",
            "당신이 떠나시던 그 밤에 이렇게 비가 왔어요 \n"
          ],
          "name": "stdout"
        }
      ]
    },
    {
      "cell_type": "code",
      "metadata": {
        "id": "BZzv4ClgmXTr",
        "colab": {
          "base_uri": "https://localhost:8080/"
        },
        "outputId": "935559b3-c0ad-4df3-d713-7f0631d5b3e1"
      },
      "source": [
        "string_1 = \"비가 내리고, \"\n",
        "string_2 = \"음악이 흐르면, \"\n",
        "string_3 = \"난 당신을 생각해요, \"\n",
        "string_4 = \"당신이 떠나시던 그 밤에 이렇게 비가 왔어요 \" \n",
        "\n",
        "print(string_1)\n",
        "print(string_2)\n",
        "print(string_3)\n",
        "print(string_4)"
      ],
      "execution_count": null,
      "outputs": [
        {
          "output_type": "stream",
          "text": [
            "비가 내리고, \n",
            "음악이 흐르면, \n",
            "난 당신을 생각해요, \n",
            "당신이 떠나시던 그 밤에 이렇게 비가 왔어요 \n"
          ],
          "name": "stdout"
        }
      ]
    },
    {
      "cell_type": "code",
      "metadata": {
        "colab": {
          "base_uri": "https://localhost:8080/"
        },
        "id": "A3ftRj61OfLI",
        "outputId": "c7857a4a-5a06-434d-af7a-beb02c86a8cd"
      },
      "source": [
        "# sing() 함수 만들기\n",
        "def sing():\n",
        "  print(string_1)\n",
        "  print(string_2)\n",
        "  print(string_3)\n",
        "  print(string_4)\n",
        "\n",
        "print('\\n 함수로 출력해보기 \\n')\n",
        "sing()\n",
        "\n",
        "#노래를 한 번 더 불러보세요\n",
        "sing()"
      ],
      "execution_count": null,
      "outputs": [
        {
          "output_type": "stream",
          "text": [
            "\n",
            " 함수로 출력해보기 \n",
            "\n",
            "비가 내리고, \n",
            "음악이 흐르면, \n",
            "난 당신을 생각해요, \n",
            "당신이 떠나시던 그 밤에 이렇게 비가 왔어요 \n",
            "비가 내리고, \n",
            "음악이 흐르면, \n",
            "난 당신을 생각해요, \n",
            "당신이 떠나시던 그 밤에 이렇게 비가 왔어요 \n"
          ],
          "name": "stdout"
        }
      ]
    },
    {
      "cell_type": "markdown",
      "metadata": {
        "id": "PjjhrcCLmXTs"
      },
      "source": [
        "> 🔍 주문 중이라는 함수를 만들어볼까요?\n",
        "> - 함수의 이름은 마음대로 지어도 됩니다\n",
        "> - \"주문 중입니다 ....\"가 출력되도록 하세요\n",
        "\n",
        "```\n",
        "def function():\n",
        "  code      <-- 잘 보면 tab 으로 들여쓰기가 되어있는 것을 알 수 있습니다. 파이썬 에서는 tab 으로 함수 안의 내용과 밖의 내용을 구분합니다\n",
        "  code\n",
        "<-- shift+tab 으로 탈출할 수 있습니다 \n",
        "function()\n",
        "```"
      ]
    },
    {
      "cell_type": "code",
      "metadata": {
        "id": "Z_1qtBZvOZg5"
      },
      "source": [
        "def ordering():\n",
        "    print(\"주문중입니다!\")"
      ],
      "execution_count": null,
      "outputs": []
    },
    {
      "cell_type": "code",
      "metadata": {
        "id": "0rGP8N_xmXTs",
        "colab": {
          "base_uri": "https://localhost:8080/"
        },
        "outputId": "46f995cf-7c28-4f74-ea67-d24e946af3c7"
      },
      "source": [
        "# 여기에 만들어보세요\n",
        "ordering()"
      ],
      "execution_count": null,
      "outputs": [
        {
          "output_type": "stream",
          "text": [
            "주문중입니다!\n"
          ],
          "name": "stdout"
        }
      ]
    },
    {
      "cell_type": "markdown",
      "metadata": {
        "id": "L_ZBjvdXR5hx"
      },
      "source": [
        "##⌛ QUIZ ⌛\n",
        "\n",
        "- CAC란, 1인 고객을 획득하는데 드는 비용을 말합니다.\n",
        "\n",
        " CAC를 구하는 식은 아래와 같습니다.\n",
        " \n",
        " 한 마케팅 회사에서 프로젝트의 CAC 자동 추산을 위한 프로그램을 개발하려고합니다.\n",
        "\n",
        " \n",
        "\n",
        "```\n",
        "     CAC = (매출 - 고객획득비용)/전체고객 수\n",
        "```\n",
        " \n"
      ]
    },
    {
      "cell_type": "code",
      "metadata": {
        "colab": {
          "base_uri": "https://localhost:8080/"
        },
        "id": "CYS1csFbNSNE",
        "outputId": "db02f119-6599-4471-f881-ee66396aae19"
      },
      "source": [
        "# 전체고객은 100명으로 고정되어 있고, 이번 프로젝트의 매출은 500, 비용은 200 입니다.\n",
        "# 이 마케팅 회사의 CAC를 구하여 아래 결과셀과 같이 나오려면 어떻게 해야할까요?\n",
        "def cal_CAC(rev, cost, users = 100):\n",
        "    print((rev - cost) / users)\n",
        "\n",
        "# 여기에 답을 적어볼까요?\n",
        "cal_CAC(500, 200, 50)"
      ],
      "execution_count": null,
      "outputs": [
        {
          "output_type": "stream",
          "text": [
            "6.0\n"
          ],
          "name": "stdout"
        }
      ]
    },
    {
      "cell_type": "code",
      "metadata": {
        "id": "k-DgdZAE-lC9",
        "colab": {
          "base_uri": "https://localhost:8080/"
        },
        "outputId": "bf23a898-b891-457a-bc04-7ca2896e1262"
      },
      "source": [
        "#문자열을 표현하는 구문 앞에 f를 붙이면, f-string이 됩니다.\n",
        "#문자열 내부에서 치환하려고 하는 내용은 {XX}--> 중괄호 안에 넣으면 됩니다.\n",
        "def love (my_name,your_name=\"주단태\"):\n",
        "  print(f\"{my_name}loves{your_name}\")\n",
        "love(\"천서진\")\n",
        "# f-string을 사용하지 않으면,다음과 같이 나옵니다. "
      ],
      "execution_count": null,
      "outputs": [
        {
          "output_type": "stream",
          "text": [
            "천서진loves주단태\n"
          ],
          "name": "stdout"
        }
      ]
    },
    {
      "cell_type": "markdown",
      "metadata": {
        "id": "jkP0om05iV3_"
      },
      "source": [
        "## 2. 함수 매개변수 parameters\n",
        "\n",
        "꼭 비가 내려야 당신이 생각나는 것은 아니겠죠! \n",
        "\n",
        "눈이 오거나 봄이 온다든가 매번 다른 게 오면 어떻게 할까요?\n"
      ]
    },
    {
      "cell_type": "code",
      "metadata": {
        "id": "ttP1tujuiV4I",
        "colab": {
          "base_uri": "https://localhost:8080/"
        },
        "outputId": "578238ae-6150-4a48-fa72-e1dc8cdc9a2c"
      },
      "source": [
        "def sing(thing):\n",
        "  # 파이썬에서는 마치 thing 이라는 변수에 내가 입력한 값이 선언된 것처럼 처리를 합니다.\n",
        "  # thing = \"눈이\"\n",
        "  print(thing + \" 내리고, \")\n",
        "  print(\"음악이 흐르면, \")\n",
        "  print(\"난 당신을 생각해요, \")\n",
        "  print(\"당신이 떠나시던 그 밤에 이렇게 비가 왔어요 \\n\") \n",
        "\n",
        "sing(\"눈이\") # 이떄 괄호 안에 들어가는 변수를 parameter 또는 함수 인자라고 부릅니다.\n",
        "sing(\"눈물이...\")\n",
        "sing(\"아무거나\")"
      ],
      "execution_count": null,
      "outputs": [
        {
          "output_type": "stream",
          "text": [
            "눈이 내리고, \n",
            "음악이 흐르면, \n",
            "난 당신을 생각해요, \n",
            "당신이 떠나시던 그 밤에 이렇게 비가 왔어요 \n",
            "\n",
            "눈물이... 내리고, \n",
            "음악이 흐르면, \n",
            "난 당신을 생각해요, \n",
            "당신이 떠나시던 그 밤에 이렇게 비가 왔어요 \n",
            "\n",
            "아무거나 내리고, \n",
            "음악이 흐르면, \n",
            "난 당신을 생각해요, \n",
            "당신이 떠나시던 그 밤에 이렇게 비가 왔어요 \n",
            "\n"
          ],
          "name": "stdout"
        }
      ]
    },
    {
      "cell_type": "markdown",
      "metadata": {
        "id": "LebA6KDXiV4J"
      },
      "source": [
        "매개변수가 2개라면 어떻게 될까요?"
      ]
    },
    {
      "cell_type": "code",
      "metadata": {
        "id": "VyvLPzt1iV4K",
        "colab": {
          "base_uri": "https://localhost:8080/"
        },
        "outputId": "4e394139-c482-4118-94fa-d49068a06994"
      },
      "source": [
        "def sing(thing1, thing2): # 협업을 할때는 만든함수에 어떤 인자가 몇개 들어가들어가는지 꼭 표시를 해주어합니다.\n",
        "  print(thing1 + \" 내리고, \")\n",
        "  print(thing2 + \" 흐르면, \")\n",
        "  print(\"난 당신을 생각해요, \")\n",
        "  print(\"당신이 떠나시던 그 밤에 이렇게 비가 왔어요 \\n\") \n",
        "\n",
        "sing(\"비가\",\"음악이\") # 파이썬에서는 함수인자가 들어가는 순서대로 배정됩니다. thing1 -> thing2 순서 "
      ],
      "execution_count": null,
      "outputs": [
        {
          "output_type": "stream",
          "text": [
            "비가 내리고, \n",
            "음악이 흐르면, \n",
            "난 당신을 생각해요, \n",
            "당신이 떠나시던 그 밤에 이렇게 비가 왔어요 \n",
            "\n"
          ],
          "name": "stdout"
        }
      ]
    },
    {
      "cell_type": "markdown",
      "metadata": {
        "id": "QJf0GdO-iV4L"
      },
      "source": [
        " 기본값 매개변수(default parameter)란 함수를 호출할 때 값을 설정하지 않아도 특정값이 할당되도록 하는 기능입니다. "
      ]
    },
    {
      "cell_type": "code",
      "metadata": {
        "id": "_X82H1uqiV4L",
        "colab": {
          "base_uri": "https://localhost:8080/"
        },
        "outputId": "614d5ee0-d615-410d-c04e-d91079b89d3e"
      },
      "source": [
        "def sing(thing1, thing2 = \"음악이\"): # 기본값은 함수를 정의할 때 지정해주어야 합니다.\n",
        "  print(thing1 + \" 내리고, \")\n",
        "  print(thing2 + \" 흐르면, \")\n",
        "  print(\"난 당신을 생각해요, \")\n",
        "  print(\"당신이 떠나시던 그 밤에 이렇게 비가 왔어요 \\n\") \n",
        "\n",
        "sing(\"비가\", \"맥주\") # 기본값 매개변수는 일반 매개변수와 달리 호출 시 생략할 수 있습니다."
      ],
      "execution_count": null,
      "outputs": [
        {
          "output_type": "stream",
          "text": [
            "비가 내리고, \n",
            "맥주 흐르면, \n",
            "난 당신을 생각해요, \n",
            "당신이 떠나시던 그 밤에 이렇게 비가 왔어요 \n",
            "\n"
          ],
          "name": "stdout"
        }
      ]
    },
    {
      "cell_type": "markdown",
      "metadata": {
        "id": "vbtLPBx4i06N"
      },
      "source": [
        "## 3. 반환값, return\n",
        "\n",
        "여태까지는 함수가 `print()`만 하였습니다. 하지만 함수를 이용해서 값을 받아오거나, 이를 다시 수정하거나 다음에 사용할 수도 있습니다. \n",
        "\n",
        "아래의 함수는 2 로 나눈 값을 반환하게 됩니다. \n",
        "```python\n",
        "  def divide_by_2(input_number):\n",
        "    return input_number / 2\n",
        "```\n",
        "\n",
        "반값 후려치기의 달인 릭 아저씨가 함수를 두 번 사용한다면 \n",
        "\n",
        "💰6000 달러💰 값어치의 물건을 1500 달러에 구매를 하겠지요?\n",
        "\n",
        "```python\n",
        "price = 6000 # 원가\n",
        "print(price,\"달러에 사겠습니다\") \n",
        "```\n",
        "\n",
        "<img src = \"https://i.ytimg.com/vi/zW_hGPWdE2M/maxresdefault.jpg\" width = \"800\">\n"
      ]
    },
    {
      "cell_type": "code",
      "metadata": {
        "id": "3zF_n70SkYKq"
      },
      "source": [
        "def divide_by_2(input_number):\n",
        "  print(\"릭 아저씨의 반값 후려치기!\")\n",
        "  return input_number / 2"
      ],
      "execution_count": null,
      "outputs": []
    },
    {
      "cell_type": "code",
      "metadata": {
        "colab": {
          "base_uri": "https://localhost:8080/"
        },
        "id": "TbybiTPYUxga",
        "outputId": "8511aa57-a9bb-4b47-93b9-3839101d720c"
      },
      "source": [
        "price = divide_by_2(3000)"
      ],
      "execution_count": null,
      "outputs": [
        {
          "output_type": "stream",
          "text": [
            "릭 아저씨의 반값 후려치기!\n"
          ],
          "name": "stdout"
        }
      ]
    },
    {
      "cell_type": "code",
      "metadata": {
        "colab": {
          "base_uri": "https://localhost:8080/"
        },
        "id": "f5P7XOdhT_p-",
        "outputId": "85981c39-6bf3-4962-afb6-8f41d46e3e69"
      },
      "source": [
        "price = 6000\n",
        "price = divide_by_2(price)\n",
        "print(price,\"달러에 사겠습니다\")"
      ],
      "execution_count": null,
      "outputs": [
        {
          "output_type": "stream",
          "text": [
            "릭 아저씨의 반값 후려치기!\n",
            "3000.0 달러에 사겠습니다\n"
          ],
          "name": "stdout"
        }
      ]
    },
    {
      "cell_type": "code",
      "metadata": {
        "colab": {
          "base_uri": "https://localhost:8080/"
        },
        "id": "8gGavP9xUb_V",
        "outputId": "12b42ddf-6581-4228-de22-1761a748d8d4"
      },
      "source": [
        "price = divide_by_2(price) #1500달러에 사려면?\n",
        "print(price,\"달러에 사겠습니다\")\n",
        "\n",
        "price = divide_by_2(price) #750달러에 사려면?\n",
        "print(price,\"달러에 사겠습니다\")"
      ],
      "execution_count": null,
      "outputs": [
        {
          "output_type": "stream",
          "text": [
            "릭 아저씨의 반값 후려치기!\n",
            "1500.0 달러에 사겠습니다\n",
            "릭 아저씨의 반값 후려치기!\n",
            "750.0 달러에 사겠습니다\n"
          ],
          "name": "stdout"
        }
      ]
    },
    {
      "cell_type": "code",
      "metadata": {
        "id": "GVfk8iChNSFB",
        "colab": {
          "base_uri": "https://localhost:8080/"
        },
        "outputId": "5c2c1bc9-813f-486f-d058-3586253a75ab"
      },
      "source": [
        "def divide_by_3(input_number):\n",
        "  return_number = input_number / 3\n",
        "  return return_number\n",
        "  print('3으로 나눴습니다.')\n",
        "\n",
        "print(divide_by_3(10))\n"
      ],
      "execution_count": null,
      "outputs": [
        {
          "output_type": "stream",
          "text": [
            "3.3333333333333335\n"
          ],
          "name": "stdout"
        }
      ]
    },
    {
      "cell_type": "markdown",
      "metadata": {
        "id": "8xo6rQqwlQEe"
      },
      "source": [
        "### 4. 여러 개의 반환값, multiple returns\n",
        "\n",
        "여러 개의 인수(argument)를 받아온 것 처럼, 여러 개의 반환값을 return 해줄 수도 있습니다. \n",
        "\n"
      ]
    },
    {
      "cell_type": "code",
      "metadata": {
        "id": "iRGLyXS6luuv",
        "colab": {
          "base_uri": "https://localhost:8080/"
        },
        "outputId": "2a2bdde5-d988-4425-8fee-ecb1ea2492de"
      },
      "source": [
        "def sample(): \n",
        "    str_tmp = \"geeksforgeeks\"\n",
        "    x = 20\n",
        "    return str_tmp, x # , 로 값을 여러 개 반환할 수 있습니다\n",
        "  \n",
        "str_tmp, x = sample() # 마찬가지로 여러 개 값을 한 번에 받아올수 있습니다\n",
        "print(str_tmp) \n",
        "print(x) "
      ],
      "execution_count": null,
      "outputs": [
        {
          "output_type": "stream",
          "text": [
            "geeksforgeeks\n",
            "20\n"
          ],
          "name": "stdout"
        }
      ]
    },
    {
      "cell_type": "code",
      "metadata": {
        "id": "IwxZWr9iwI9O",
        "colab": {
          "base_uri": "https://localhost:8080/"
        },
        "outputId": "1b76160e-e534-4ce3-ce5f-5f8cee9e2e9e"
      },
      "source": [
        "# 만약 ID가 '수석'에 GRADE가 'GOLD'인 사람이 로그인 했을 때의 결과가 아래와 같이 나온다면, 어떻게 해야할까요?\n",
        "\n",
        "id = '수석'\n",
        "grade = 'gold'\n",
        "\n",
        "# 여기에 답을 적어보세요\n",
        "# 1번 조건\n",
        "if id == '수석' or id == '책임':\n",
        "    print(\"로그인 되었습니다.\")\n",
        "    # 2번 조건\n",
        "    if grade == 'platinum':\n",
        "        print(\"상위 관리자 인증\")\n",
        "# 3번 조건\n",
        "else:\n",
        "    print(\"로그인 실패\")"
      ],
      "execution_count": null,
      "outputs": [
        {
          "output_type": "stream",
          "text": [
            "로그인 되었습니다.\n"
          ],
          "name": "stdout"
        }
      ]
    },
    {
      "cell_type": "code",
      "metadata": {
        "id": "GaMtNiQr6zJx"
      },
      "source": [
        "def test(id, grade):\n",
        "    if id == '수석' or id == '책임':\n",
        "        print(\"로그인 되었습니다.\")\n",
        "        # 2번 조건\n",
        "        if grade == 'platinum':\n",
        "            print(\"상위 관리자 인증\")\n",
        "    # 3번 조건\n",
        "    else:\n",
        "        print(\"로그인 실패\")"
      ],
      "execution_count": null,
      "outputs": []
    },
    {
      "cell_type": "code",
      "metadata": {
        "id": "26Wc4w7l6pzW",
        "colab": {
          "base_uri": "https://localhost:8080/"
        },
        "outputId": "90b21802-cdb1-4e17-9def-590fd4c7bac2"
      },
      "source": [
        "# 만약 ID가 '주니어'이고, GRADE가 'Platinum'인 사람이 로그인하면 어떤 문구가 나타날까요?\n",
        "test('주니어', '아무거나')\n",
        "test('책임', 'platinum')"
      ],
      "execution_count": null,
      "outputs": [
        {
          "output_type": "stream",
          "text": [
            "로그인 실패\n",
            "로그인 되었습니다.\n",
            "상위 관리자 인증\n"
          ],
          "name": "stdout"
        }
      ]
    },
    {
      "cell_type": "markdown",
      "source": [
        "### 실습\n"
      ],
      "metadata": {
        "id": "AVxeI0M-Mgwq"
      }
    },
    {
      "cell_type": "markdown",
      "source": [
        "![image.png](data:image/png;base64,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)"
      ],
      "metadata": {
        "id": "c_-KoFwUMmXk"
      }
    },
    {
      "cell_type": "markdown",
      "source": [
        "![image.png](data:image/png;base64,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)"
      ],
      "metadata": {
        "id": "Cj3be1CIMvfy"
      }
    },
    {
      "cell_type": "code",
      "source": [
        "def average(a, b, c):\n",
        "    # 함수를 짜세요\n",
        "\n",
        "\t\t\n",
        "\n",
        "a = int(input('국어 점수를 입력하세요: ')) \n",
        "b = int(input('영어 점수를 입력하세요: ')) \n",
        "c = int(input('수학 점수를 입력하세요: '))\n",
        "\n",
        "print(f'국어는 {a}점, 영어는 {b}점, 수학은 {c}점이며, 총 평균은 {average(a,b,c):0.2f}점입니다.' )"
      ],
      "metadata": {
        "id": "-TnZ7RfoMl-2"
      },
      "execution_count": null,
      "outputs": []
    },
    {
      "cell_type": "code",
      "source": [
        "#@title 정답\n",
        "\n",
        "def average(a, b, c):\n",
        "\t\tsum = a+b+c\n",
        "\t\tta = sum/3\n",
        "\t\treturn ta\n",
        "\t\t\n",
        "\n",
        "a = int(input('국어 점수를 입력하세요: ')) \n",
        "b = int(input('영어 점수를 입력하세요: ')) \n",
        "c = int(input('수학 점수를 입력하세요: '))\n",
        "\n",
        "print(f'국어는 {a}점, 영어는 {b}점, 수학은 {c}점이며, 총 평균은 {average(a,b,c):0.2f}점입니다.' )\n"
      ],
      "metadata": {
        "cellView": "form",
        "id": "Ih8a2Z3UNAGv"
      },
      "execution_count": null,
      "outputs": []
    },
    {
      "cell_type": "code",
      "source": [
        ""
      ],
      "metadata": {
        "id": "LA7CmuGoMjr4"
      },
      "execution_count": null,
      "outputs": []
    }
  ]
}