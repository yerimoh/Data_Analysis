{
  "nbformat": 4,
  "nbformat_minor": 0,
  "metadata": {
    "colab": {
      "name": "파이썬_기초문법_4.ipynb",
      "provenance": [],
      "collapsed_sections": [],
      "toc_visible": true
    },
    "kernelspec": {
      "name": "python3",
      "display_name": "Python 3"
    }
  },
  "cells": [
    {
      "cell_type": "markdown",
      "metadata": {
        "id": "UUUWmPhNF-xM"
      },
      "source": [
        "# 📌 Step 4. 파이썬 - 리스트"
      ]
    },
    {
      "cell_type": "markdown",
      "metadata": {
        "id": "IDSr6erb91Tv"
      },
      "source": [
        "## 1. 리스트(List) 란? \n",
        "\n",
        "리스트는 숫자와 문자열만으로는 표현할 수 있는 것들에 한계가 존재해서 그 부분을 보완하기 위해 만든 것입니다.  \n",
        "파이썬의 자료 구조 형태 중 하나로 리스트는 값을 나열하는 것으로 정의됩니다.\n"
      ]
    },
    {
      "cell_type": "markdown",
      "metadata": {
        "id": "_OzIJrlIMw90"
      },
      "source": [
        "\n",
        "###  LIST의 특징 (※이건 꼭 기억하기!※)🔥🔥🔥\n",
        "\n",
        "ⓛ 순서 O\n",
        "\n",
        "② 중복 O\n",
        "\n",
        "③ 수정 O\n",
        "\n",
        "④ 삭제 O\n",
        "\n",
        "⑤ 여러개의 값을 묶어서 저장 가능"
      ]
    },
    {
      "cell_type": "markdown",
      "metadata": {
        "id": "CMpcL_RUMq-p"
      },
      "source": [
        "\n",
        "\n",
        "---\n",
        "\n",
        "\n",
        "### ⚡ List가 왜 중요할까요? ⚡\n",
        "\n",
        "**데이터 베이스에서 값을 가져오거나, 웹이나 인터넷에서 크롤링을 할때에도 리스트는 가장 기본적인 데이터 형태**로써 아주 많이 쓰이기 때문에, List는 간단하지만 아주 중요한 개념이에요!\n",
        "\n",
        "데이터 분석을 하는 사람들에게도 필수적입니다.\n",
        "넘파이나 판다스같은 프로그램에서 2차원 3차원의 형태로 생긴 데이터를 리스트 형태로 담고있습니다.\n",
        "매커니즘은 조금씩 다르지만, 기본적으로 데이터를 삽입하고 가져오는 형태는 비슷하기 때문에 List개념을 잘 배워놓으면 앞으로 파이썬을 효율적으로 사용할 수 있게 될거에요!\n",
        "\n",
        "\n",
        "---\n",
        "\n"
      ]
    },
    {
      "cell_type": "markdown",
      "metadata": {
        "id": "OkjJz3DoMuau"
      },
      "source": [
        "\n",
        "### List 만들기 \n",
        "\n",
        "리스트의 구조는 단순합니다. 변수로 리스트를 정의하고  대괄호 안에 여러 개의 값을 넣고 각각을 콤마 (,) 로 구분하면 됩니다.  \n",
        ">예) 바다에 사는 것들 = [ 🐳, 🦀, 🐚, 🧜🏻‍♀️, 🐬 ]  \n",
        "> List 를 만들어봅시다\n"
      ]
    },
    {
      "cell_type": "code",
      "metadata": {
        "id": "ET7sFHboWFpV",
        "colab": {
          "base_uri": "https://localhost:8080/"
        },
        "outputId": "49d592ec-1cb0-4e52-c035-6090c8550178"
      },
      "source": [
        "#List_name(변수) = [a,b,c] \n",
        "corona_counts = [114, 1091, 2163, 50184]  # 4개 국가의 코로나 현황을 담는 list 를 생성합니다\n",
        "print(\"각 국가의 코로나 바이러스 현황은?\")\n",
        "print(corona_counts)"
      ],
      "execution_count": null,
      "outputs": [
        {
          "output_type": "stream",
          "text": [
            "각 국가의 코로나 바이러스 현황은?\n",
            "[114, 1091, 2163, 50184]\n"
          ],
          "name": "stdout"
        }
      ]
    },
    {
      "cell_type": "markdown",
      "metadata": {
        "id": "4maRmBJ_Wook"
      },
      "source": [
        "`corona_counts` 라는 변수의 이름에  114, 1091, 2163, 50184 와 같은 여러 개의 값을 담을 수 있습니다.\n",
        "이게 바로 List 입니다. \n",
        "\n"
      ]
    },
    {
      "cell_type": "markdown",
      "metadata": {
        "id": "gDHUR8aRbqP7"
      },
      "source": [
        "### 2. List에 문자 담기 \n",
        "\n",
        "  리스트에는 숫자(int 또는 float) 뿐만 아니라 텍스트(string) 도 담을 수 있습니다.  \n",
        "  텍스트를 list에 넣을 때는, 작은 따옴표('`이건 string`') 로 감싸서  넣어 줘야 합니다.\n",
        "  "
      ]
    },
    {
      "cell_type": "markdown",
      "metadata": {
        "id": "261r2L8uX8-c"
      },
      "source": [
        "> 🔍 아래 예제를 보고 야식 리스트를 만들어보세요\n",
        "> * 만약 에러가 뜬다면 입력 값들 사이에 콤마 (,) 를 표시했는지 살펴 보세요 \n",
        "\n"
      ]
    },
    {
      "cell_type": "code",
      "metadata": {
        "id": "gTRy61pnX8Bp",
        "colab": {
          "base_uri": "https://localhost:8080/"
        },
        "outputId": "cda8f070-bed2-4146-d4af-ab5c462a6730"
      },
      "source": [
        "#야식을 리스트로 만들어서 출력해보세요!\n",
        "\n",
        "yasik = [\"족발\", \"치킨\", \"떡볶이\", \"마라샹궈\"]\n",
        "print(\"내가 먹고 싶은 야식 리스트 \")\n",
        "print(yasik) #yasik list를 출력합니다."
      ],
      "execution_count": null,
      "outputs": [
        {
          "output_type": "stream",
          "text": [
            "내가 먹고 싶은 야식 리스트 \n",
            "['족발', '치킨', '떡볶이', '마라샹궈']\n"
          ],
          "name": "stdout"
        }
      ]
    },
    {
      "cell_type": "markdown",
      "metadata": {
        "id": "Zx5gVYrS3ntO"
      },
      "source": [
        "> 또한 list에 숫자와 텍스트 둘다 넣을 수 있습니다. "
      ]
    },
    {
      "cell_type": "code",
      "metadata": {
        "id": "a-zQA--tPck5",
        "colab": {
          "base_uri": "https://localhost:8080/"
        },
        "outputId": "fd111cd8-ac9f-4da8-836e-4b194b683ff3"
      },
      "source": [
        "# 아래는 음식 이름과 가격을 갖는 order list 입니다 \n",
        "order = ['떡볶이', '3인분', 15000]\n",
        "\n",
        "print(\"내 주문 정보\")\n",
        "print(order) #order list를 출력합니다. "
      ],
      "execution_count": null,
      "outputs": [
        {
          "output_type": "stream",
          "text": [
            "내 주문 정보\n",
            "['떡볶이', '3인분', 15000]\n"
          ],
          "name": "stdout"
        }
      ]
    },
    {
      "cell_type": "markdown",
      "metadata": {
        "id": "uic8wjEEh0lm"
      },
      "source": [
        "### 3. List 에 List 담기 \n",
        "\n",
        "List에는 숫자, 문자뿐만 아니라 심지어 다른 리스트를 담을 수 있습니다!  \n",
        " 리스트 안에 다른 리스트를 넣을 때는 대괄호를 하나 더 써줘야 합니다.\n",
        " \n",
        " `[  [ ]  ]` 이렇게요."
      ]
    },
    {
      "cell_type": "code",
      "metadata": {
        "id": "7WCarWR2h5pY",
        "colab": {
          "base_uri": "https://localhost:8080/"
        },
        "outputId": "dffe97b6-d94b-455f-b968-2a766125d8ee"
      },
      "source": [
        "# list 안에 list \n",
        "cheese_list = [['치즈'],['크림치즈','고르곤졸라치즈'],['사워크림치즈','허니버터치즈','어니언갈릭치즈']]  \n",
        "print(cheese_list) "
      ],
      "execution_count": null,
      "outputs": [
        {
          "output_type": "stream",
          "text": [
            "[['치즈'], ['크림치즈', '고르곤졸라치즈'], ['사워크림치즈', '허니버터치즈', '어니언갈릭치즈']]\n"
          ],
          "name": "stdout"
        }
      ]
    },
    {
      "cell_type": "markdown",
      "metadata": {
        "id": "YDFV2ou6j0H4"
      },
      "source": [
        "## 4.append() 리스트에 값을 추가하기\n",
        "리스트에 다른 값을 추가하고 싶을 때는 `.append()`라는 함수를 사용하여 새로운 값을 추가할 수 있습니다.  \n",
        " `.append()` 함수는 리스트 이름 뒤에 붙여야 합니다!  만약 위의 `cheese_list` 라는 리스트에 값을 추가할 경우에는\n",
        "\n",
        "`cheese_list.append('추가하고 싶은 치즈')  `  이런 식으로 말이죠."
      ]
    },
    {
      "cell_type": "code",
      "metadata": {
        "id": "wLDBFkbsj0H6",
        "colab": {
          "base_uri": "https://localhost:8080/"
        },
        "outputId": "c1a56555-4283-4327-e0b5-e24f0fc6d3b1"
      },
      "source": [
        "# 먼저 치즈 리스트를 출력해볼까요? \n",
        "cheese_list = ['치즈', '크림치즈', '고르곤졸라치즈', '사워크림치즈', '허니버터치즈', '어니언갈릭치즈']\n",
        "print(cheese_list) "
      ],
      "execution_count": null,
      "outputs": [
        {
          "output_type": "stream",
          "text": [
            "['치즈', '크림치즈', '고르곤졸라치즈', '사워크림치즈', '허니버터치즈', '어니언갈릭치즈']\n"
          ],
          "name": "stdout"
        }
      ]
    },
    {
      "cell_type": "markdown",
      "metadata": {
        "id": "V-sl5tcrj0H6"
      },
      "source": [
        "> 🔍 세상에 존재하지 않는 치즈를 추가해보세요 "
      ]
    },
    {
      "cell_type": "code",
      "metadata": {
        "id": "RxPRmLPLj0H7",
        "colab": {
          "base_uri": "https://localhost:8080/"
        },
        "outputId": "6ba9dfd0-8ae6-4fd8-a493-0125cc65aa79"
      },
      "source": [
        "# 여기에 만들어보세요\n",
        "cheese_list.append('고다치즈')\n",
        "\n",
        "print(cheese_list)    # 만약 TypeError가 뜬다면 추가한 치즈를 string 형태나 list 형태로 바꿔보세요"
      ],
      "execution_count": null,
      "outputs": [
        {
          "output_type": "stream",
          "text": [
            "['치즈', '크림치즈', '고르곤졸라치즈', '사워크림치즈', '허니버터치즈', '어니언갈릭치즈', '고다 치즈', '고다치즈', '고다치즈']\n"
          ],
          "name": "stdout"
        }
      ]
    },
    {
      "cell_type": "markdown",
      "metadata": {
        "id": "-NgG9DCkhmae"
      },
      "source": [
        "## 5. 리스트 인덱싱 (index) \n",
        "\n",
        "### 인덱싱(index)\n",
        "리스트는 문자열과 같이 인덱싱을 적용하여  리스트 안의 값들을 가져올 수 있습니다. \n",
        "\n",
        " \n",
        "` num = [0,1,2,3,4,5]` 라는  list가 있을 때, \n",
        " \n",
        "- `num[0]` 은 num 리스트의 첫 번째 요소값을 말합니다.  \n",
        "- `num[1]` 은 두 번째, `num[2]`는 세 번째... 이렇게 순서대로 리스트안의 요소값을 말합니다. \n",
        " \n",
        " 어? 😵 근데 왜 `num[1]`이 두 번째 숫자인가 하고 궁금하실 거에요.  \n",
        "\n",
        " 그 이유는 **파이썬은 0부터 숫자를 세기 때문이죠!**  \n"
      ]
    },
    {
      "cell_type": "markdown",
      "metadata": {
        "id": "w6ENSzQu7Sqt"
      },
      "source": [
        "> 인덱싱을 통해 특정 위치의 값을 불러 출력할 수 있습니다. "
      ]
    },
    {
      "cell_type": "code",
      "metadata": {
        "id": "xHUWzmlQq0u9",
        "colab": {
          "base_uri": "https://localhost:8080/"
        },
        "outputId": "c4d24645-0018-4535-9870-d79f3d4945f2"
      },
      "source": [
        "list1 = [0,3,5,4]  # list1이라는 리스트가 있습니다. \n",
        "print(\"list1  안에 있는 세 번째 값은:\")\n",
        "print(list1[2]) # list1에서 세 번째에 들어있는 값을 print 합니다.\n",
        "\n",
        "# 쉽죠? 그럼 이제 숫자 말고 텍스트도 볼까요? \n",
        "list2 = [ 'i', 'love','you',3000] \n",
        "print(\"list2 안에 있는 두 번째 단어를 print:\")\n",
        "print(list2 [1])  # love는 두 번째 단어니까 list2[1] 이겠죠?"
      ],
      "execution_count": null,
      "outputs": [
        {
          "output_type": "stream",
          "text": [
            "list1  안에 있는 세 번째 값은:\n",
            "5\n",
            "list2 안에 있는 두 번째 단어를 print:\n",
            "love\n"
          ],
          "name": "stdout"
        }
      ]
    },
    {
      "cell_type": "markdown",
      "metadata": {
        "id": "cMLDagaR7dur"
      },
      "source": [
        "> 🔍 위 리스트에서 3000이라는 숫자를 print 해보세요!"
      ]
    },
    {
      "cell_type": "code",
      "metadata": {
        "id": "dGDG4MmF7iRo",
        "colab": {
          "base_uri": "https://localhost:8080/"
        },
        "outputId": "e94d7284-bb72-49d2-f79c-a61385ed3a9f"
      },
      "source": [
        "# 여기에\n",
        "print(list2[3])\n",
        "# 역순의 인덱스도 한 번 활용해볼까요?\n",
        "print(list2[-1])"
      ],
      "execution_count": null,
      "outputs": [
        {
          "output_type": "stream",
          "text": [
            "3000\n",
            "3000\n"
          ],
          "name": "stdout"
        }
      ]
    },
    {
      "cell_type": "markdown",
      "metadata": {
        "id": "tZDEzFLazVw0"
      },
      "source": [
        "##⌛ QUIZ ⌛\n",
        "![김마인표.png](data:image/png;base64,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)\n",
        "*   그림과 같이 '김마인'님의 고객 보험 정보 LIST가 있는데,\n",
        "    여기서 인덱스를 사용하여 '나이'만 뽑으려면 어떻게 해야할까요?\n"
      ]
    },
    {
      "cell_type": "code",
      "source": [
        "# 리스트 생성\n",
        "\n",
        "# '나이'만 뽑기"
      ],
      "metadata": {
        "id": "fJ_L-FibTt8X"
      },
      "execution_count": null,
      "outputs": []
    },
    {
      "cell_type": "code",
      "metadata": {
        "id": "LaSKFZw90Tm8",
        "colab": {
          "base_uri": "https://localhost:8080/"
        },
        "outputId": "889b5d9e-9de0-4dff-a448-a2e0aca4a56b",
        "cellView": "form"
      },
      "source": [
        "#@title 정답\n",
        "# 여기에 답을 적어볼까요?\n",
        "user = ['김마인', 'female', '30', 'B']\n",
        "print(user[2])\n",
        "print(user[-2])"
      ],
      "execution_count": null,
      "outputs": [
        {
          "output_type": "stream",
          "text": [
            "30\n",
            "30\n"
          ],
          "name": "stdout"
        }
      ]
    },
    {
      "cell_type": "markdown",
      "metadata": {
        "id": "uePdRr-auvQl"
      },
      "source": [
        "### 6. 슬라이싱(slicing)\n",
        "\n",
        "슬라이싱은 말 그대로 문자열이나 리스트에서 단순히 한 문자만 뽑아내는 것이 아니라 원하는 값을 여러 개 가져오는 기능입니다. \n",
        "* list[시작:끝]   이렇게 생겼습니다.\n",
        "\n",
        "\n",
        "파이썬에서는 문자열도 리스트에서와 같이 인덱싱과 슬라이싱이 가능합니다.\n",
        "\n",
        "\n",
        "\n"
      ]
    },
    {
      "cell_type": "code",
      "metadata": {
        "colab": {
          "base_uri": "https://localhost:8080/",
          "height": 35
        },
        "id": "i_IFT7OPa6Qt",
        "outputId": "678450ee-70e2-44de-e08e-dc881f70e758"
      },
      "source": [
        "A = \"DATADIVING\"\n",
        "A[4:]"
      ],
      "execution_count": null,
      "outputs": [
        {
          "output_type": "execute_result",
          "data": {
            "application/vnd.google.colaboratory.intrinsic+json": {
              "type": "string"
            },
            "text/plain": [
              "'DIVING'"
            ]
          },
          "metadata": {},
          "execution_count": 86
        }
      ]
    },
    {
      "cell_type": "code",
      "metadata": {
        "id": "leLwtBAMxm1u",
        "colab": {
          "base_uri": "https://localhost:8080/"
        },
        "outputId": "3dc0eb17-6832-4deb-c041-98be9e452bac"
      },
      "source": [
        "# 문자열을 slicing 하면\n",
        "text = \"i love you 3000\"  \n",
        "text = text[0:6]  # index 0부터 ~ index 6 전의 index 5까지 가져옵니다\n",
        "print(\"인덱스 0 부터 6까지 값을 출력하면:\")\n",
        "print(text) # 가져온 값을 살펴봅시다"
      ],
      "execution_count": null,
      "outputs": [
        {
          "output_type": "stream",
          "text": [
            "인덱스 0 부터 6까지 값을 출력하면:\n",
            "i love\n"
          ],
          "name": "stdout"
        }
      ]
    },
    {
      "cell_type": "markdown",
      "metadata": {
        "id": "ttOmAhSizOW8"
      },
      "source": [
        "문장에서 0부터 6 번째 자리에 있는 단어들이 출력 되었습니다!  \n",
        "그럼 이제 배열 slicing을 해볼게요. 배열도 마찬가지입니다. 배열 인덱싱도 방식은 동일합니다."
      ]
    },
    {
      "cell_type": "code",
      "metadata": {
        "id": "3pPVWROvznXy",
        "colab": {
          "base_uri": "https://localhost:8080/"
        },
        "outputId": "18705369-be2d-48de-a3de-4eb787675e49"
      },
      "source": [
        "list3 = ['i','love','you','3000']\n",
        "result = list3[0:2]     # 리스트에서 첫 번째 부터 두 번째 값을 가져옵니다.\n",
        "print(\"list3 안의 첫 번째 부터 두 번째까지의 값은:\")\n",
        "print(result)\n",
        "print(\"위 문장을 모두 slicing을 이용해서 가져오고 print 해보세요!\")\n",
        "\n",
        "# list[시작:끝]을 result라는 변수에 넣고 출력해보세요\n",
        "result = list3[0:-1]\n",
        "print(result)"
      ],
      "execution_count": null,
      "outputs": [
        {
          "output_type": "stream",
          "text": [
            "list3 안의 첫 번째 부터 두 번째까지의 값은:\n",
            "['i', 'love']\n",
            "위 문장을 모두 slicing을 이용해서 가져오고 print 해보세요!\n",
            "['i', 'love', 'you']\n"
          ],
          "name": "stdout"
        }
      ]
    },
    {
      "cell_type": "markdown",
      "metadata": {
        "id": "f6JeCmsP1rGW"
      },
      "source": [
        "list [시작: 끝] 에서 위에서 한 것처럼 범위를 지정할 수도 있지만,  시작과 끝 부분을 얻어보는 방법을 더 쉽게 표현 할 수 있습니다. \n",
        "\n",
        "\n",
        "* list [ 2 : ]  : 2번째부터 끝까지 가져옴\n",
        "* list [ : 2 ] : 처음부터 2번째 까지 반환 \n",
        "* list [ : ] : 처음부터 끝까지 전부 반환\n",
        "\n",
        "> 🔍 위 내용을 참고해서 아래 예제의 리스트에서 처음부터 3번째 값을 가져와 출력해 보세요\n"
      ]
    },
    {
      "cell_type": "code",
      "metadata": {
        "id": "NjKx70Ka2neZ",
        "colab": {
          "base_uri": "https://localhost:8080/"
        },
        "outputId": "fff0a56b-810d-4a01-b688-2c263141fb3f"
      },
      "source": [
        "# 아래 list4에서 처음부터 3번째 '끝' 까지만 가져와 보세요\n",
        "list4 = ['이제','수업','끝','남','잠시 휴식','시간 가져요']\n",
        "\n",
        "answer = # 여길 고쳐보세요!\n",
        "\n",
        "print(answer) # 가져온 값을 출력해 봅니다"
      ],
      "execution_count": null,
      "outputs": [
        {
          "output_type": "stream",
          "text": [
            "['이제', '수업', '끝', '남', '잠시 휴식', '시간 가져요']\n"
          ],
          "name": "stdout"
        }
      ]
    },
    {
      "cell_type": "code",
      "source": [
        "#@title 정답\n",
        "\n",
        "# 아래 list4에서 처음부터 3번째 '끝' 까지만 가져와 보세요\n",
        "list4 = ['이제','수업','끝','남','잠시 휴식','시간 가져요']\n",
        "\n",
        "answer = list4[:3]\n",
        "\n",
        "print(answer) # 가져온 값을 출력해 봅니다"
      ],
      "metadata": {
        "colab": {
          "base_uri": "https://localhost:8080/"
        },
        "cellView": "form",
        "id": "5dRT7yiTUvPA",
        "outputId": "6391bec5-d7d9-4f4f-a415-428b5b6ae818"
      },
      "execution_count": null,
      "outputs": [
        {
          "output_type": "stream",
          "name": "stdout",
          "text": [
            "['이제', '수업', '끝']\n"
          ]
        }
      ]
    },
    {
      "cell_type": "markdown",
      "metadata": {
        "id": "56MhsVrPP3Zx"
      },
      "source": [
        "##⌛ QUIZ ⌛\n",
        "\n",
        "- 인사팀에서 신입사원을 대상으로한 교육분반 표를 만들었습니다.\n",
        "\n",
        "  이 중, 슬라이싱을 통해 '부서'와 '반'에 해당하는 데이터만 뽑으려면 어떻게 해야할까요?"
      ]
    },
    {
      "cell_type": "code",
      "metadata": {
        "id": "0J0TH6bH5zB9"
      },
      "source": [
        "DB = [['이름', '부서', '분반'],['김마인', '마케팅', 'C']]\n",
        "\n",
        "# 답 적기"
      ],
      "execution_count": null,
      "outputs": []
    },
    {
      "cell_type": "code",
      "source": [
        "#@title 정답\n",
        "# 여기에 답을 적어볼까요?\n",
        "DB = [['이름', '부서', '분반'],['김마인', '마케팅', 'C']]\n",
        "print(DB[1][1:])"
      ],
      "metadata": {
        "colab": {
          "base_uri": "https://localhost:8080/"
        },
        "cellView": "form",
        "id": "bF8mMeLVVDJc",
        "outputId": "2fc3de5c-afa8-486c-d34e-caf66c48dc10"
      },
      "execution_count": null,
      "outputs": [
        {
          "output_type": "stream",
          "name": "stdout",
          "text": [
            "['마케팅', 'C']\n"
          ]
        }
      ]
    },
    {
      "cell_type": "markdown",
      "source": [
        "# 데이터 입력받기(input)\n",
        "\n",
        "데이터를 저장하고 가공하기 위해서는 데이터에 대한 입력이 필요합니다.\n",
        "\n",
        "Input은 사용자에게 데이터를 입력 받기 위한 함수입니다. \n",
        "\n",
        "Input은 입력 받은 값을 문자열로 처리하기 때문에 숫자를 입력받을 경우 \n",
        "\n",
        "숫자형 Type으로 변환해주어야 합니다."
      ],
      "metadata": {
        "id": "OKS_tGBSXBnC"
      }
    },
    {
      "cell_type": "code",
      "source": [
        "text = input() # text 변수에 사용자 입력 값을 저장합니다.\n",
        "\n",
        "# 안녕하세요를 입력해 보세요\n",
        "\n",
        "print(text)\n",
        "print(type(text))"
      ],
      "metadata": {
        "colab": {
          "base_uri": "https://localhost:8080/"
        },
        "id": "UtMqbvHzXAv3",
        "outputId": "1d62cfb8-3ac3-46a4-db0b-8e11ce3a7dbc"
      },
      "execution_count": 1,
      "outputs": [
        {
          "output_type": "stream",
          "name": "stdout",
          "text": [
            "안녕하세요\n",
            "안녕하세요\n",
            "<class 'str'>\n"
          ]
        }
      ]
    },
    {
      "cell_type": "code",
      "source": [
        "text = input(\"인사말을 입력해 주세요!\") # input의 프롬프트 문자열을 입력해줄 수 있습니다.\n",
        "\n",
        "# 안녕하세요를 입력해 보세요\n",
        "\n",
        "print(text)"
      ],
      "metadata": {
        "colab": {
          "base_uri": "https://localhost:8080/"
        },
        "id": "03ByCc9fXAnw",
        "outputId": "d2107f03-f660-4665-8f57-9d440db0d1b3"
      },
      "execution_count": 2,
      "outputs": [
        {
          "output_type": "stream",
          "name": "stdout",
          "text": [
            "인사말을 입력해 주세요!안녕하세요\n",
            "안녕하세요\n"
          ]
        }
      ]
    },
    {
      "cell_type": "code",
      "source": [
        "num = int(input('정수 10을 입력해 주세요!')) # num 변수에 사용자 입력 값을 정수형으로 변환하여 저장합니다.\n",
        "\n",
        "print(num)\n",
        "print(type(num))"
      ],
      "metadata": {
        "colab": {
          "base_uri": "https://localhost:8080/"
        },
        "id": "y-DvduxRXAeQ",
        "outputId": "6401bc7a-58f8-4bdb-eae0-6cccd8d3d02e"
      },
      "execution_count": 3,
      "outputs": [
        {
          "output_type": "stream",
          "name": "stdout",
          "text": [
            "숫자 10을 입력해 주세요!10\n",
            "10\n",
            "<class 'int'>\n"
          ]
        }
      ]
    },
    {
      "cell_type": "code",
      "source": [
        "num = float(input('실수 2.3을 입력해 주세요!')) # num 변수에 사용자 입력 값을 정수형으로 변환하여 저장합니다.\n",
        "\n",
        "print(num)\n",
        "print(type(num))"
      ],
      "metadata": {
        "colab": {
          "base_uri": "https://localhost:8080/"
        },
        "id": "1gqplm9wY7UF",
        "outputId": "3927b59b-7255-464e-e8e4-b4f279d264f2"
      },
      "execution_count": 4,
      "outputs": [
        {
          "output_type": "stream",
          "name": "stdout",
          "text": [
            "실수 2.3을 입력해 주세요!2.3\n",
            "2.3\n",
            "<class 'float'>\n"
          ]
        }
      ]
    }
  ]
}